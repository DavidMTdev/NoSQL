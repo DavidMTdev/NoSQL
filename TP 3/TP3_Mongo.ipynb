{
 "metadata": {
  "language_info": {
   "codemirror_mode": {
    "name": "ipython",
    "version": 3
   },
   "file_extension": ".py",
   "mimetype": "text/x-python",
   "name": "python",
   "nbconvert_exporter": "python",
   "pygments_lexer": "ipython3",
   "version": "3.9.1-final"
  },
  "orig_nbformat": 2,
  "kernelspec": {
   "name": "python3",
   "display_name": "Python 3",
   "language": "python"
  }
 },
 "nbformat": 4,
 "nbformat_minor": 2,
 "cells": [
  {
   "cell_type": "code",
   "execution_count": 48,
   "metadata": {},
   "outputs": [],
   "source": [
    "import pymongo\n",
    "import json\n",
    "from pprint import pprint"
   ]
  },
  {
   "cell_type": "code",
   "execution_count": 49,
   "metadata": {},
   "outputs": [],
   "source": [
    "try :\n",
    "    client = pymongo.MongoClient('mongodb://localhost:27017/')\n",
    "\n",
    "    db = client.db_agg\n",
    "    db.transactions.drop()\n",
    "\n",
    "    transactions = db.transactions\n",
    "except :\n",
    "    print(\"connexion error\")\n",
    "\n",
    "try :\n",
    "    with open('json/transactions.json') as json_data:\n",
    "        data = json.load(json_data)\n",
    "except :\n",
    "    print(\"impossible d'ouvrir les fichiers json\")\n",
    "\n",
    "try:\n",
    "    db.transactions.insert_many(data)\n",
    "except:\n",
    "    print(\"Insert many error\")"
   ]
  },
  {
   "cell_type": "code",
   "execution_count": 50,
   "metadata": {},
   "outputs": [
    {
     "output_type": "stream",
     "name": "stdout",
     "text": [
      "{'Total Payment': 1230, '_id': None}\n"
     ]
    }
   ],
   "source": [
    "# Q-1. Calculer le montant total des paiements ?\n",
    "# # Indice : key : Payment.Total\n",
    "match = {\"$match\":{\"Payment\":{\"$ne\": None}}}\n",
    "group = {\"$group\" : {\"_id\" : None, \"Total Payment\" : { \"$sum\" : \"$Payment.Total\" }}}\n",
    "\n",
    "for trans in transactions.aggregate( [match, group] ):\n",
    "    pprint(trans)"
   ]
  },
  {
   "cell_type": "code",
   "execution_count": 47,
   "metadata": {},
   "outputs": [
    {
     "output_type": "stream",
     "name": "stdout",
     "text": [
      "{'Total Panier': 410, '_id': 'tran4'}\n{'Total Panier': 410, '_id': 'tran3'}\n{'Total Panier': 410, '_id': 'tran2'}\n{'Total Panier': 410, '_id': 'tran1'}\n"
     ]
    }
   ],
   "source": [
    "# Q-2. Calculer le montant total par transactions (montant total du panier) ?\n",
    "unwind = { \"$unwind\" : '$Panier' }\n",
    "group = {\"$group\" : {\"_id\" : \"$TransactionId\", \"Total Panier\" : { \"$sum\" : \"$Panier.price\" }}}\n",
    "\n",
    "for trans in transactions.aggregate( [unwind, group] ):\n",
    "    pprint(trans)"
   ]
  },
  {
   "cell_type": "code",
   "execution_count": 34,
   "metadata": {},
   "outputs": [
    {
     "output_type": "stream",
     "name": "stdout",
     "text": [
      "{'Total Payment': 410, '_id': 'Debit-Card'}\n{'Total Payment': 820, '_id': 'Credit-Card'}\n"
     ]
    }
   ],
   "source": [
    "# Q-3. Calculate total payments (Payment.Total) for each payment type (Payment.Type) ?\n",
    "match = {\"$match\":{\"Payment\":{\"$ne\": None}}}\n",
    "group = {\"$group\" : {\"_id\" : \"$Payment.Type\", \"Total Payment\" : { \"$sum\" : \"$Payment.Total\" }}}\n",
    "\n",
    "for trans in transactions.aggregate( [match, group] ):\n",
    "    pprint(trans)"
   ]
  },
  {
   "cell_type": "code",
   "execution_count": 40,
   "metadata": {},
   "outputs": [
    {
     "output_type": "stream",
     "name": "stdout",
     "text": [
      "{'Id': 103, '_id': None}\n"
     ]
    }
   ],
   "source": [
    "# Q-4. Trouver l'Id le plus élevé.\n",
    "group = {\"$group\": { \"_id\" : None , \"Id\": {\"$max\": \"$Id\"} }}\n",
    "sort = {\"$sort\" : {\"max\" : -1}}\n",
    "\n",
    "for trans in transactions.aggregate([group, sort]):\n",
    "    pprint(trans)"
   ]
  },
  {
   "cell_type": "code",
   "execution_count": 32,
   "metadata": {},
   "outputs": [
    {
     "output_type": "stream",
     "name": "stdout",
     "text": [
      "{'_id': None, 'max_price': 210}\n"
     ]
    }
   ],
   "source": [
    "# Q-5. Find the max price (Transaction.price) ?\n",
    "unwind = { \"$unwind\" : '$Panier' }\n",
    "group = { \"$group\" : {\"_id\" : None , \"max_price\" : { \"$max\" : \"$Panier.price\" }} }\n",
    "sort = {\"$sort\" : {\"max\" : -1}}\n",
    "\n",
    "for trans in transactions.aggregate( [unwind, group, sort] ):\n",
    "    pprint(trans)"
   ]
  }
 ]
}